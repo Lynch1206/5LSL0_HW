{
 "cells": [
  {
   "cell_type": "markdown",
   "metadata": {},
   "source": [
    "# Assignment3\n",
    "## Autoencoder\n",
    "### Determinstic autoencoder"
   ]
  },
  {
   "cell_type": "code",
   "execution_count": 8,
   "metadata": {},
   "outputs": [
    {
     "data": {
      "text/plain": [
       "device(type='cuda')"
      ]
     },
     "execution_count": 8,
     "metadata": {},
     "output_type": "execute_result"
    }
   ],
   "source": [
    "# libraries\n",
    "import torch\n",
    "import torch.nn as nn\n",
    "from tqdm import tqdm\n",
    "import matplotlib.pyplot as plt\n",
    "# local imports\n",
    "import MNIST_dataloader\n",
    "import autoencoder_template\n",
    "import os\n",
    "import torch.nn.functional as F\n",
    "# local imports\n",
    "from bokeh.plotting import figure\n",
    "from bokeh.io import show\n",
    "import numpy as np\n",
    "import matplotlib.cm\n",
    "import torch.optim as optim\n",
    "\n",
    "if "
   ]
  },
  {
   "cell_type": "markdown",
   "metadata": {},
   "source": [
    "## Load data MNST"
   ]
  },
  {
   "cell_type": "code",
   "execution_count": 5,
   "metadata": {},
   "outputs": [
    {
     "name": "stdout",
     "output_type": "stream",
     "text": [
      "Downloading http://yann.lecun.com/exdb/mnist/train-images-idx3-ubyte.gz\n",
      "Downloading http://yann.lecun.com/exdb/mnist/train-images-idx3-ubyte.gz to d:\\01_School\\Q4_5LSL0_MachineLearningForsignalProcessing\\5LSL0_HW\\Assignment3\\Code - for students\\data\\MNIST\\raw\\train-images-idx3-ubyte.gz\n"
     ]
    },
    {
     "name": "stderr",
     "output_type": "stream",
     "text": [
      "9913344it [00:00, 28255614.92it/s]                             \n"
     ]
    },
    {
     "name": "stdout",
     "output_type": "stream",
     "text": [
      "Extracting d:\\01_School\\Q4_5LSL0_MachineLearningForsignalProcessing\\5LSL0_HW\\Assignment3\\Code - for students\\data\\MNIST\\raw\\train-images-idx3-ubyte.gz to d:\\01_School\\Q4_5LSL0_MachineLearningForsignalProcessing\\5LSL0_HW\\Assignment3\\Code - for students\\data\\MNIST\\raw\n",
      "\n",
      "Downloading http://yann.lecun.com/exdb/mnist/train-labels-idx1-ubyte.gz\n",
      "Downloading http://yann.lecun.com/exdb/mnist/train-labels-idx1-ubyte.gz to d:\\01_School\\Q4_5LSL0_MachineLearningForsignalProcessing\\5LSL0_HW\\Assignment3\\Code - for students\\data\\MNIST\\raw\\train-labels-idx1-ubyte.gz\n"
     ]
    },
    {
     "name": "stderr",
     "output_type": "stream",
     "text": [
      "29696it [00:00, ?it/s]                   \n"
     ]
    },
    {
     "name": "stdout",
     "output_type": "stream",
     "text": [
      "Extracting d:\\01_School\\Q4_5LSL0_MachineLearningForsignalProcessing\\5LSL0_HW\\Assignment3\\Code - for students\\data\\MNIST\\raw\\train-labels-idx1-ubyte.gz to d:\\01_School\\Q4_5LSL0_MachineLearningForsignalProcessing\\5LSL0_HW\\Assignment3\\Code - for students\\data\\MNIST\\raw\n",
      "\n",
      "Downloading http://yann.lecun.com/exdb/mnist/t10k-images-idx3-ubyte.gz\n",
      "Downloading http://yann.lecun.com/exdb/mnist/t10k-images-idx3-ubyte.gz to d:\\01_School\\Q4_5LSL0_MachineLearningForsignalProcessing\\5LSL0_HW\\Assignment3\\Code - for students\\data\\MNIST\\raw\\t10k-images-idx3-ubyte.gz\n"
     ]
    },
    {
     "name": "stderr",
     "output_type": "stream",
     "text": [
      "1649664it [00:00, 26608286.89it/s]         \n"
     ]
    },
    {
     "name": "stdout",
     "output_type": "stream",
     "text": [
      "Extracting d:\\01_School\\Q4_5LSL0_MachineLearningForsignalProcessing\\5LSL0_HW\\Assignment3\\Code - for students\\data\\MNIST\\raw\\t10k-images-idx3-ubyte.gz to d:\\01_School\\Q4_5LSL0_MachineLearningForsignalProcessing\\5LSL0_HW\\Assignment3\\Code - for students\\data\\MNIST\\raw\n",
      "\n",
      "Downloading http://yann.lecun.com/exdb/mnist/t10k-labels-idx1-ubyte.gz\n",
      "Downloading http://yann.lecun.com/exdb/mnist/t10k-labels-idx1-ubyte.gz to d:\\01_School\\Q4_5LSL0_MachineLearningForsignalProcessing\\5LSL0_HW\\Assignment3\\Code - for students\\data\\MNIST\\raw\\t10k-labels-idx1-ubyte.gz\n"
     ]
    },
    {
     "name": "stderr",
     "output_type": "stream",
     "text": [
      "5120it [00:00, 5128931.57it/s]          \n"
     ]
    },
    {
     "name": "stdout",
     "output_type": "stream",
     "text": [
      "Extracting d:\\01_School\\Q4_5LSL0_MachineLearningForsignalProcessing\\5LSL0_HW\\Assignment3\\Code - for students\\data\\MNIST\\raw\\t10k-labels-idx1-ubyte.gz to d:\\01_School\\Q4_5LSL0_MachineLearningForsignalProcessing\\5LSL0_HW\\Assignment3\\Code - for students\\data\\MNIST\\raw\n",
      "\n"
     ]
    }
   ],
   "source": [
    "# set torches random seed\n",
    "torch.random.manual_seed(0)\n",
    "PATH = os.getcwd()\n",
    "data_loc = os.path.join(PATH,'data')\n",
    "batch_size = 64\n",
    "no_epochs = 4\n",
    "learning_rate = 3e-4\n",
    "train_loader, test_loader = MNIST_dataloader.create_dataloaders(data_loc, batch_size)\n"
   ]
  },
  {
   "cell_type": "markdown",
   "metadata": {},
   "source": [
    "# EX1\n",
    "## AE"
   ]
  },
  {
   "cell_type": "code",
   "execution_count": null,
   "metadata": {},
   "outputs": [],
   "source": [
    "# create the autoencoder\n",
    "AE = autoencoder_template.AE()\n",
    "\n"
   ]
  }
 ],
 "metadata": {
  "interpreter": {
   "hash": "e315d1772bc03e6468836c2e3ad4fcd1073bb72d6c682226e42b185cdab2a59b"
  },
  "kernelspec": {
   "display_name": "Python 3.10.4 ('.venv': venv)",
   "language": "python",
   "name": "python3"
  },
  "language_info": {
   "codemirror_mode": {
    "name": "ipython",
    "version": 3
   },
   "file_extension": ".py",
   "mimetype": "text/x-python",
   "name": "python",
   "nbconvert_exporter": "python",
   "pygments_lexer": "ipython3",
   "version": "3.10.4"
  },
  "orig_nbformat": 4
 },
 "nbformat": 4,
 "nbformat_minor": 2
}
