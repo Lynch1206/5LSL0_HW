{
 "cells": [
  {
   "cell_type": "markdown",
   "metadata": {},
   "source": [
    "# Assignment 2\n",
    "Q1: Derive the negative log-likelihood cost function J(x, y; θ)\n",
    "Consider the following regression network:\n",
    "\\begin{equation*}\n",
    "    f(x;w,b) = w^Tx+b\n",
    "\\end{equation*}\n",
    "And the model has a Gaussian distribution of prediction errors and with a unity covariance matrix $p(y_i;\\theta)$, whereas the mean is $f(x_i;\\theta)$ and variance is one.\\newline\n",
    "It is known that the negative log-likelihood cost function is:\n",
    "\\begin{equation*}\n",
    "    J(\\theta) = -log\\Pi^{m-1}_{i=0}\\hat{P}_{model}(y^{(i)}|x^{(i)},\\theta)\n",
    "\\end{equation*}\n",
    "The ML estimate is the minimizer of the negative log likelihood function with $J(x,y|\\theta)$. Where it is known that the negative likelihood cost function is:\n",
    "\\begin{equation*}\n",
    "    J(\\theta) = arg\\min_{\\theta}(-\\sum log \\hat{p}_{model}(y^{(i)}|x^{(i)},\\theta))\n",
    "\\end{equation*}\n",
    "As well as given Gaussian distribution model parameters with mean and variance. The model of probability model of $\\hat{p}_{model}~\\mathcal{N}\\{y;f(x,\\theta),\\sigma I\\}$ since the output, $p(y_i;\\theta)$ follows normally distribution. Here, the mean is $f(x_i;\\theta)$.\n",
    "Hence, it follows that the estimator of w and b satisfy following:\n",
    "\\begin{equation*}\n",
    "    (\\hat{\\theta}) = arg\\min_{\\theta}(-\\frac{1}{m}\\sum^{m-1}_{i=0}log \\hat{P}_{model(y^i|x^i,\\theta)}) =  arg\\min_{\\theta}(-\\frac{1}{m}\\sum^{m-1}_{i=0}log\\: e^{-\\frac{1}{2\\sigma^2}[y^i-f(x^i;\\theta)][y^i-f(x^i;\\theta)]^T})\n",
    "\\end{equation*}\n",
    "Where the $\\theta $ equals to $(w,b)$.\n",
    "Furthermore, it can develop the probability model which is satisfied as Gaussian normal distribution with the given variance as 1, so the equation can be derived into:\n",
    "\\begin{equation*}\n",
    "    m\\:ln\\sqrt{2\\pi}+\\sum^{m-1}_{i=0}\\frac{((y_i-f(x_i;\\theta))^2}{2}\n",
    "\\end{equation*}"
   ]
  },
  {
   "cell_type": "markdown",
   "metadata": {},
   "source": [
    "# Q2 \n",
    "Get expression for w and b.\n",
    "The expression for the w and b from above can be derived by minimum MSE cost criterion.\n",
    "\\begin{equation*}\n",
    "    \\frac{\\partial J}{\\partial w}=\\sum_{0}^{m-1}\\left\\{\\left[y_{i}-\\left(w^{\\top} x_{i}+b\\right)\\right] \\cdot(- x_{i})\\right\\}=0\n",
    "\\end{equation*}\n",
    "\\begin{equation*}\n",
    "    \\frac{\\partial J}{\\partial b}=\\sum_{0}^{m-1}\\left\\{\\left[y_{i}-\\left(w^{\\top} x_{i}+b\\right)\\right] \\cdot (-1)\\right)=0\n",
    "\\end{equation*}\n",
    "From the equations above, the weight w and b thus can be derived as following:\n",
    "\\begin{equation*}\n",
    "    \\sum y_{i}=\\sum w^T x_{i}+m b\n",
    "\\end{equation*}\n",
    "\\begin{equation*}\n",
    "    b= \\sum\\left(y_{i}-w^{\\top} x_{i}\\right)\n",
    "\\end{equation*}\n",
    "With cost function:\n",
    "\\begin{equation*}\n",
    "    \\frac{\\partial J(\\theta)}{\\partial \\theta}= \\sum \\{ [y_i - f(x;\\theta)]\\cdot f(x;\\theta)\\}=0\n",
    "\\end{equation*}\\\\\n",
    "Where actucally, the $ (y-f(x_i;\\theta))^2 = (y-\\theta^Tx)\\cdot (y-\\theta^Tx)^T$, hence the $\\theta$ here is the $\\theta = (XX^T)^{-1}Xy^T$.\n"
   ]
  },
  {
   "cell_type": "markdown",
   "metadata": {},
   "source": [
    "# Q3 and Q4\n",
    "## Q3\n",
    "Calculate the b and w. \n",
    "So in the Q3, the given point is well described.\n",
    "\n",
    "## Q4\n",
    "And result showing that the given parameters are not be capable of reverting back to the model."
   ]
  },
  {
   "cell_type": "code",
   "execution_count": null,
   "metadata": {},
   "outputs": [],
   "source": []
  },
  {
   "cell_type": "code",
   "execution_count": 1,
   "metadata": {},
   "outputs": [
    {
     "name": "stdout",
     "output_type": "stream",
     "text": [
      "(4, 1)\n",
      "the resulst of b, w : [[ 1.00000000e-01  4.00000000e-01 -7.63278329e-17]]\n",
      "[0.  0.1 1.  1. ]\n",
      "\n",
      "F3\n",
      " [[0.   0.01 0.1  0.1 ]\n",
      " [0.   0.4  0.08 0.4 ]] \n",
      "F\n",
      " [[0.   0.41 0.18 0.5 ]]\n",
      "MES_new\n",
      " 3.158525108795067e-32 \n",
      "\n"
     ]
    },
    {
     "data": {
      "text/plain": [
       "array([[0.1],\n",
       "       [0.4]])"
      ]
     },
     "execution_count": 1,
     "metadata": {},
     "output_type": "execute_result"
    }
   ],
   "source": [
    "import numpy as np\n",
    "import pandas as pd\n",
    "import pandas as pd\n",
    "import matplotlib.pyplot as plt\n",
    "\n",
    "\n",
    "def is_invertible(a):\n",
    "    return a.shape[0] == a.shape[1] and np.linalg.matrix_rank(a) == a.shape[0]\n",
    "\n",
    "# Q3\n",
    "# f(x;w,b) = w^T+b\n",
    "X = np.array([[0,0,1],[0.1,1,1],[1,0.2,1],[1,1,1]]).T\n",
    "Y = np.array([0, 0.41, 0.18, 0.5]).reshape(1,4)\n",
    "x = np.array([[0,0],[0.1,1],[1,0.2],[1,1]]).T\n",
    "X = np.array([[0,0,1],[0.1,1,1],[1,0.2,1],[1,1,1]]).T\n",
    "\n",
    "\n",
    "\n",
    "print(np.shape(Y.T))\n",
    "q3 = np.linalg.inv(X@X.T)@X@Y.T # w, b\n",
    "print('the resulst of b, w :',q3.T)\n",
    "\n",
    "# 1.00000000e-01  4.00000000e-01 b = -7.63278329e-17\n",
    "\n",
    "print(X[0,:])\n",
    "w = np.array([q3[0],q3[1]])\n",
    "F= w.T@x\n",
    "f3 = q3[0]*X[0,:]\n",
    "f3_2 = q3[1]*X[1,:]\n",
    "f3 =np.array([f3,f3_2])\n",
    "print('\\nF3\\n',f3,'\\nF\\n',F)\n",
    "\n",
    "\n",
    "#   correct\n",
    "# function for MES\n",
    "\n",
    "def MES_linear(y,f):\n",
    "    if (len(y)==len(f)):\n",
    "        # N = len(y)\n",
    "        MES = (1/4)*np.sum((Y-f)**2)\n",
    "    return MES\n",
    "\n",
    "MES_Q3 = MES_linear(Y,F)\n",
    "# (1/3)*np.sum((Y - F)**2)\n",
    "# mes = np.array([mes[0,:]*q3[0],mes[1,:]*q3[1]])\n",
    "print('MES_new\\n',MES_Q3,'\\n')\n",
    "# print('J(theta)\\n',np.round(mes,4),'\\nMSE\\n',np.sum(mes))\n",
    "\n",
    "\n",
    "\n",
    "# mes = (1/3)*(f3 - x)**2\n",
    "# mes = np.array([mes[0,:]*q3[0],mes[1,:]*q3[1]])\n",
    "# # print('J(theta)\\n',np.round(mes,4),'\\nMSE\\n',np.sum(mes))\n",
    "\n",
    "\n",
    "\n",
    "\n",
    "\n",
    "\n",
    "\n",
    "# f4 = q4[0]*X[0,:]+q4[2]\n",
    "# f4_2 = q4[1]*X[1,:]+q4[2]\n",
    "# f4 =np.array([f4,f4_2])\n",
    "\n",
    "# mes_4 = (1/3)*(f4 - x)**2\n",
    "# mes_4 = np.array([mes_4[0,:]*q4[0],mes_4[1,:]*q4[1]])\n",
    "# print('theta-4\\n',np.round(mes_4,4),'\\n MSE-4\\n',np.sum(mes_4))\n",
    "\n",
    "\n",
    "# Q4_MES = MES_linear(Q4,f4)\n",
    "\n",
    "# print('MES-q4\\n',Q4_MES,'\\n')\n",
    "w"
   ]
  },
  {
   "cell_type": "code",
   "execution_count": 52,
   "metadata": {},
   "outputs": [
    {
     "name": "stdout",
     "output_type": "stream",
     "text": [
      "New w and b\n",
      " [[ 0.10107389  0.41070998 -0.05022928]] \n",
      "\n"
     ]
    },
    {
     "data": {
      "text/plain": [
       "0.001941147137735584"
      ]
     },
     "execution_count": 52,
     "metadata": {},
     "output_type": "execute_result"
    }
   ],
   "source": [
    "# Q4\n",
    "# x = np.array([[0,0],[0.1,1],[1,0.2],[1,1]]).T # x origin\n",
    "# X = np.array([[0,0,1],[0.1,1,1],[1,0.2,1],[1,1,1]]).T # x add 1 row for b\n",
    "# Q4 - y output\n",
    "y4= np.array([-0.0416,0.3610,0.1222,0.4733]).reshape(1,4)\n",
    "q4 = np.linalg.inv(X@X.T)@X@y4.T # w , b\n",
    "print('New w and b\\n',q4.T,'\\n')\n",
    "\n",
    "w4 = np.array([q4[0],q4[1]])\n",
    "b4 = q4[2]\n",
    "# f = np.array(w4.T@x)\n",
    "F4 = w4.T@x+b4\n",
    "MES4 = MES_linear(y4,F4)\n",
    "# print('newf:\\t',f)\n",
    "MES4"
   ]
  },
  {
   "cell_type": "markdown",
   "metadata": {},
   "source": [
    "# Q5\n",
    "Derive the optimal ngative log-likelihood cost criterion for a diagonal covariance matrix with $\\sigma_0,... \\sigma_N...$ on the diagnoal. "
   ]
  },
  {
   "cell_type": "markdown",
   "metadata": {},
   "source": [
    "\\begin{aligned}\n",
    "J(\\theta) &=-\\sum_{i=0}^{m-1}\\left[\\ln \\frac{1}{\\sqrt{2 \\pi} \\cdot \\sigma} e^{-\\frac{(y-\\mu)^{2}}{2 \\sigma}}\\right]=m \\ln \\sqrt{2 \\pi} \\cdot \\sigma+\\sum_{i=0}^{m-1} \\frac{(y-\\mu)^{2}}{2 \\sigma^{2}} \\\\\n",
    "&\\left.=m \\ln \\sqrt{2 \\pi}+\\sum_{i=0}^{m-1} \\frac{1}{2}\\left(\\frac{\\left[y_{1}-f\\left(x_{i} ; \\theta)\\right]^{2}\\right.}{\\sigma}\\right)\\right\n",
    "\\end{aligned}\n",
    "Where the covariance can be derived as following:\n",
    "\\begin{equation*}\n",
    "    \\left[\\begin{array}{llll}\n",
    "\\sigma_{1} & & \\\\\n",
    "& \\sigma_{2} & \\\\\n",
    "& & \\sigma_{3} & \\\\\n",
    "& & \\sigma_{N}\n",
    "\\end{array}\\right] \\Rightarrow\\left[\\begin{array}{lllll}\n",
    "\\sigma_{1} & \\sigma_{2} & \\sigma_{3} & \\cdots & \\sigma_{N}\n",
    "\\end{array}\\right] \\cdot\\left[\\begin{array}{c}\n",
    "I\n",
    "\\end{array}\\right]\n",
    "\\end{equation*}"
   ]
  },
  {
   "cell_type": "markdown",
   "metadata": {},
   "source": [
    "# Q6\n",
    "## Learning a new funciton, the XOR.\n",
    "### Optimal parameters with XOR of rule.\n",
    "Based on the four possible inputs and outputs of the XOR function.\n",
    "Assume that given input of x data is below. From the calculation, and it turns out taht the result could not be inverted to the original model."
   ]
  },
  {
   "cell_type": "code",
   "execution_count": 24,
   "metadata": {},
   "outputs": [
    {
     "name": "stdout",
     "output_type": "stream",
     "text": [
      "input 2-element:\n",
      " [[0 1 1 0]\n",
      " [0 1 0 1]\n",
      " [1 1 1 1]]\n",
      "q6\n",
      " [[0.00000000e+00]\n",
      " [2.22044605e-16]\n",
      " [5.00000000e-01]]\n",
      "w1 and w2 for XOR logic\n",
      " [[0.00000000e+00 2.22044605e-16]]\n",
      "[[0 0]\n",
      " [1 1]\n",
      " [1 0]\n",
      " [0 1]]\n",
      "f(x;theta) of the model \n",
      " [[0.00000000e+00 2.22044605e-16 0.00000000e+00 2.22044605e-16]]\n"
     ]
    },
    {
     "data": {
      "text/plain": [
       "0.25"
      ]
     },
     "execution_count": 24,
     "metadata": {},
     "output_type": "execute_result"
    }
   ],
   "source": [
    "X = np.array([[0,0,1],[1,1,1],[1,0,1],[0,1,1]]).T\n",
    "x = np.array([[0,0],[1,1],[1,0],[0,1]])\n",
    "print('input 2-element:\\n',X)\n",
    "# Y = np.array([0, 0.41, 0.18, 0.5]).reshape(1,4)\n",
    "Y = np.array([[0,0,1,1]]).reshape(1,4)\n",
    "q6= np.linalg.inv(X@X.T)@X@Y.T # w\n",
    "print('q6\\n',q6)\n",
    "\n",
    "w_1 = np.array([q6[0],q6[1]])\n",
    "print('w1 and w2 for XOR logic\\n',w_1.T)\n",
    "print(x)\n",
    "print('f(x;theta) of the model \\n',w_1.T@x.T+q6[0])\n",
    "\n",
    "F6 = q6[2]\n",
    "\n",
    "F6\n",
    "MES6 = (1/4)*np.sum((Y-F6)**2)\n",
    "MES6\n",
    "# MES6 = MES_linear(Y,F6)\n",
    "# print(MES6)"
   ]
  },
  {
   "cell_type": "markdown",
   "metadata": {},
   "source": [
    "# Q7\n",
    "\n",
    "\n",
    "\n",
    "\n",
    "\\begin{aligned}\n",
    "i=j \\quad & \\frac{\\partial \\frac{e^{x_{i}}}{\\sum e^{x_{j}}}}{\\partial x}=\\frac{e^{x_{i}} \\sum e^{x_{j}}-e^{x_{j}} e^{x_{i}}}{\\left(\\sum e^{x_{j}}\\right)^{2}} \\\\\n",
    "\n",
    "i \\neq j \\quad & \\rightarrow \\frac{0-e^{x_{j}} e^{x_{i}}}{\\left(\\sum e^{x_{j}}\\right)^{2}}=-\\frac{e^{x_{j} e^{x_{i}}}}{\\left(\\sum e^{x_{j}}\\right)^{2}}\n",
    "\\end{aligned}"
   ]
  },
  {
   "cell_type": "markdown",
   "metadata": {},
   "source": [
    "# Q8\n",
    "when $x>> 0$.\\\n",
    "## ReLU\n",
    "From the gradient of the ReLU, the value is either to 1 when x is over 0 or to 0 when x is less than 0.\n",
    "##  \n"
   ]
  },
  {
   "cell_type": "code",
   "execution_count": 3,
   "metadata": {},
   "outputs": [
    {
     "ename": "AxisError",
     "evalue": "axis 1 is out of bounds for array of dimension 1",
     "output_type": "error",
     "traceback": [
      "\u001b[1;31m---------------------------------------------------------------------------\u001b[0m",
      "\u001b[1;31mAxisError\u001b[0m                                 Traceback (most recent call last)",
      "\u001b[1;32md:\\01_School\\Q4_5LSL0_MachineLearningForsignalProcessing\\5LSL0_HW\\Assignment2.ipynb Cell 11'\u001b[0m in \u001b[0;36m<cell line: 41>\u001b[1;34m()\u001b[0m\n\u001b[0;32m     <a href='vscode-notebook-cell:/d%3A/01_School/Q4_5LSL0_MachineLearningForsignalProcessing/5LSL0_HW/Assignment2.ipynb#ch0000014?line=38'>39</a>\u001b[0m p \u001b[39m=\u001b[39m np\u001b[39m.\u001b[39marange(\u001b[39m0\u001b[39m,\u001b[39m50\u001b[39m,\u001b[39m0.1\u001b[39m)\n\u001b[0;32m     <a href='vscode-notebook-cell:/d%3A/01_School/Q4_5LSL0_MachineLearningForsignalProcessing/5LSL0_HW/Assignment2.ipynb#ch0000014?line=39'>40</a>\u001b[0m p \u001b[39m=\u001b[39m np\u001b[39m.\u001b[39marray(p)\n\u001b[1;32m---> <a href='vscode-notebook-cell:/d%3A/01_School/Q4_5LSL0_MachineLearningForsignalProcessing/5LSL0_HW/Assignment2.ipynb#ch0000014?line=40'>41</a>\u001b[0m sp \u001b[39m=\u001b[39m softmax(p)\n\u001b[0;32m     <a href='vscode-notebook-cell:/d%3A/01_School/Q4_5LSL0_MachineLearningForsignalProcessing/5LSL0_HW/Assignment2.ipynb#ch0000014?line=41'>42</a>\u001b[0m plt\u001b[39m.\u001b[39mplot(p,sp)\n",
      "\u001b[1;32md:\\01_School\\Q4_5LSL0_MachineLearningForsignalProcessing\\5LSL0_HW\\Assignment2.ipynb Cell 11'\u001b[0m in \u001b[0;36msoftmax\u001b[1;34m(z)\u001b[0m\n\u001b[0;32m     <a href='vscode-notebook-cell:/d%3A/01_School/Q4_5LSL0_MachineLearningForsignalProcessing/5LSL0_HW/Assignment2.ipynb#ch0000014?line=9'>10</a>\u001b[0m \u001b[39mdef\u001b[39;00m \u001b[39msoftmax\u001b[39m(z):\n\u001b[0;32m     <a href='vscode-notebook-cell:/d%3A/01_School/Q4_5LSL0_MachineLearningForsignalProcessing/5LSL0_HW/Assignment2.ipynb#ch0000014?line=10'>11</a>\u001b[0m \t\u001b[39m# z being a matrix whos rows are the observations, and columns the different input per observation\u001b[39;00m\n\u001b[0;32m     <a href='vscode-notebook-cell:/d%3A/01_School/Q4_5LSL0_MachineLearningForsignalProcessing/5LSL0_HW/Assignment2.ipynb#ch0000014?line=11'>12</a>\u001b[0m     e \u001b[39m=\u001b[39m np\u001b[39m.\u001b[39mexp(z)\n\u001b[1;32m---> <a href='vscode-notebook-cell:/d%3A/01_School/Q4_5LSL0_MachineLearningForsignalProcessing/5LSL0_HW/Assignment2.ipynb#ch0000014?line=12'>13</a>\u001b[0m     s \u001b[39m=\u001b[39m np\u001b[39m.\u001b[39;49msum(e, axis\u001b[39m=\u001b[39;49m\u001b[39m1\u001b[39;49m, keepdims\u001b[39m=\u001b[39;49m\u001b[39mTrue\u001b[39;49;00m)\n\u001b[0;32m     <a href='vscode-notebook-cell:/d%3A/01_School/Q4_5LSL0_MachineLearningForsignalProcessing/5LSL0_HW/Assignment2.ipynb#ch0000014?line=13'>14</a>\u001b[0m     \u001b[39mreturn\u001b[39;00m e\u001b[39m/\u001b[39ms\n",
      "File \u001b[1;32m<__array_function__ internals>:180\u001b[0m, in \u001b[0;36msum\u001b[1;34m(*args, **kwargs)\u001b[0m\n",
      "File \u001b[1;32md:\\01_School\\Q4_5LSL0_MachineLearningForsignalProcessing\\5LSL0_HW\\.venv\\lib\\site-packages\\numpy\\core\\fromnumeric.py:2296\u001b[0m, in \u001b[0;36msum\u001b[1;34m(a, axis, dtype, out, keepdims, initial, where)\u001b[0m\n\u001b[0;32m   <a href='file:///d%3A/01_School/Q4_5LSL0_MachineLearningForsignalProcessing/5LSL0_HW/.venv/lib/site-packages/numpy/core/fromnumeric.py?line=2292'>2293</a>\u001b[0m         \u001b[39mreturn\u001b[39;00m out\n\u001b[0;32m   <a href='file:///d%3A/01_School/Q4_5LSL0_MachineLearningForsignalProcessing/5LSL0_HW/.venv/lib/site-packages/numpy/core/fromnumeric.py?line=2293'>2294</a>\u001b[0m     \u001b[39mreturn\u001b[39;00m res\n\u001b[1;32m-> <a href='file:///d%3A/01_School/Q4_5LSL0_MachineLearningForsignalProcessing/5LSL0_HW/.venv/lib/site-packages/numpy/core/fromnumeric.py?line=2295'>2296</a>\u001b[0m \u001b[39mreturn\u001b[39;00m _wrapreduction(a, np\u001b[39m.\u001b[39;49madd, \u001b[39m'\u001b[39;49m\u001b[39msum\u001b[39;49m\u001b[39m'\u001b[39;49m, axis, dtype, out, keepdims\u001b[39m=\u001b[39;49mkeepdims,\n\u001b[0;32m   <a href='file:///d%3A/01_School/Q4_5LSL0_MachineLearningForsignalProcessing/5LSL0_HW/.venv/lib/site-packages/numpy/core/fromnumeric.py?line=2296'>2297</a>\u001b[0m                       initial\u001b[39m=\u001b[39;49minitial, where\u001b[39m=\u001b[39;49mwhere)\n",
      "File \u001b[1;32md:\\01_School\\Q4_5LSL0_MachineLearningForsignalProcessing\\5LSL0_HW\\.venv\\lib\\site-packages\\numpy\\core\\fromnumeric.py:86\u001b[0m, in \u001b[0;36m_wrapreduction\u001b[1;34m(obj, ufunc, method, axis, dtype, out, **kwargs)\u001b[0m\n\u001b[0;32m     <a href='file:///d%3A/01_School/Q4_5LSL0_MachineLearningForsignalProcessing/5LSL0_HW/.venv/lib/site-packages/numpy/core/fromnumeric.py?line=82'>83</a>\u001b[0m         \u001b[39melse\u001b[39;00m:\n\u001b[0;32m     <a href='file:///d%3A/01_School/Q4_5LSL0_MachineLearningForsignalProcessing/5LSL0_HW/.venv/lib/site-packages/numpy/core/fromnumeric.py?line=83'>84</a>\u001b[0m             \u001b[39mreturn\u001b[39;00m reduction(axis\u001b[39m=\u001b[39maxis, out\u001b[39m=\u001b[39mout, \u001b[39m*\u001b[39m\u001b[39m*\u001b[39mpasskwargs)\n\u001b[1;32m---> <a href='file:///d%3A/01_School/Q4_5LSL0_MachineLearningForsignalProcessing/5LSL0_HW/.venv/lib/site-packages/numpy/core/fromnumeric.py?line=85'>86</a>\u001b[0m \u001b[39mreturn\u001b[39;00m ufunc\u001b[39m.\u001b[39mreduce(obj, axis, dtype, out, \u001b[39m*\u001b[39m\u001b[39m*\u001b[39mpasskwargs)\n",
      "\u001b[1;31mAxisError\u001b[0m: axis 1 is out of bounds for array of dimension 1"
     ]
    }
   ],
   "source": [
    "import numpy as np\n",
    "import matplotlib.pyplot as plt\n",
    "def sigmoid(x):\n",
    "  \n",
    "    z = np.exp(-x)\n",
    "    sig = 1 / (1 + z)\n",
    "\n",
    "    return sig\n",
    "\n",
    "def softmax(z):\n",
    "\t# z being a matrix whos rows are the observations, and columns the different input per observation\n",
    "    e = np.exp(z)\n",
    "    s = np.sum(e, axis=1, keepdims=True)\n",
    "    return e/s\n",
    "def softmax_back(da, z):\n",
    "    # z, da shapes - (m, n)\n",
    "    m, n = z.shape\n",
    "    p = softmax(z)\n",
    "    # First we create for each example feature vector, it's outer product with itself\n",
    "    # ( p1^2  p1*p2  p1*p3 .... )\n",
    "    # ( p2*p1 p2^2   p2*p3 .... )\n",
    "    # ( ...                     )\n",
    "    tensor1 = np.einsum('ij,ik->ijk', p, p)  # (m, n, n)\n",
    "    # Second we need to create an (n,n) identity of the feature vector\n",
    "    # ( p1  0  0  ...  )\n",
    "    # ( 0   p2 0  ...  )\n",
    "    # ( ...            )\n",
    "    tensor2 = np.einsum('ij,jk->ijk', p, np.eye(n, n))  # (m, n, n)\n",
    "    # Then we need to subtract the first tensor from the second\n",
    "    # ( p1 - p1^2   -p1*p2   -p1*p3  ... )\n",
    "    # ( -p1*p2     p2 - p2^2   -p2*p3 ...)\n",
    "    # ( ...                              )\n",
    "    dSoftmax = tensor2 - tensor1\n",
    "    # Finally, we multiply the dSoftmax (da/dz) by da (dL/da) to get the gradient w.r.t. Z\n",
    "    dz = np.einsum('ijk,ik->ij', dSoftmax, da)  # (m, n)\n",
    "    return dz\n",
    "\n",
    "\n",
    "p = np.arange(0,50,0.1)\n",
    "p = np.array(p)\n",
    "sp = softmax(p)\n",
    "plt.plot(p,sp)"
   ]
  },
  {
   "cell_type": "markdown",
   "metadata": {},
   "source": [
    "# Q9\n",
    "In this turn, it allows you to model a response variable that varies non-linearly with its explanatory variables. In order to map the correlation from the given iniput, however, singals that are transer from linear layer to another linear layer will just give you linear function."
   ]
  },
  {
   "cell_type": "markdown",
   "metadata": {},
   "source": [
    "# Q10\n",
    "Reproduce 2-14\n",
    "Python, showing how the input is mapped into a the latent space h. Also plot the decision boundary f (x) = 0.5\n",
    "Decision boundary is $f(x;\\theta) = 0.5$ \\\\\n",
    "\n",
    "$$\n",
    "f(x;W^1,b^1,w^2,b^2) = (w^2)^T\\:max(0,W^1x+b^1)+b^2\n",
    "$$\n"
   ]
  },
  {
   "cell_type": "code",
   "execution_count": 134,
   "metadata": {},
   "outputs": [
    {
     "name": "stdout",
     "output_type": "stream",
     "text": [
      "g(x) function:\n",
      " [[ 0  1  1  2]\n",
      " [-1  0  0  1]]\n",
      "max(0,W1x+b1) function:\n",
      " [[0 1 1 2]\n",
      " [0 0 0 1]]\n",
      "Maps to output y\n",
      " [[0 1 1 0]]\n",
      "With input X:\n",
      " [[0 0 1 1]\n",
      " [0 1 0 1]]\n"
     ]
    },
    {
     "data": {
      "image/png": "[encoded data removed]",
      "text/plain": [
       "<Figure size 720x360 with 2 Axes>"
      ]
     },
     "metadata": {
      "needs_background": "light"
     },
     "output_type": "display_data"
    }
   ],
   "source": [
    "import numpy as np\n",
    "import pandas as pd\n",
    "import matplotlib.pyplot as plt\n",
    "# Input from slide\n",
    "# Given\n",
    "W1 = np.array([[1,1],[1,1]])\n",
    "b1 = np.array([[0],[-1]])\n",
    "b2 = 0\n",
    "W2 = np.array([[1],[-2]])\n",
    "X = np.array([[0,0,1,1],[0,1,0,1]])\n",
    "Y = np.array([0,1,1,0]).reshape(1,4)\n",
    "\n",
    "\n",
    "g = W1@X+b1 # linear function\n",
    "\n",
    "print('g(x) function:\\n',g)\n",
    "G = np.array([[ 0  ,1 , 1 , 2],[0,  0,  0  ,1]]) # nonlinear with ReLU activation\n",
    "print('max(0,W1x+b1) function:\\n',G)\n",
    "y = W2.T@G+b2 # map function\n",
    "print('Maps to output y\\n',y)\n",
    "print('With input X:\\n',X)\n",
    "h2 = np.arange(-1,2,0.1)\n",
    "h1 = 0.5 + 2*h2\n",
    "\n",
    "# friends = [70, 65, 72, 63, 71, 64, 60, 64, 67]\n",
    "# minutes = [175, 170, 205, 120, 220, 130, 105, 145, 190]\n",
    "# plt.scatter(friends, minutes)\n",
    "fig, (ax1, ax2) = plt.subplots(1, 2,figsize=(10,5))\n",
    "fig.suptitle('Result of map function with input in laten domain after nonlinear transformation')\n",
    "O1_x1 = [0,1]\n",
    "O1_x2 = [0,1]\n",
    "X1_x1 = [0,1]\n",
    "X1_x2 = [1,0]\n",
    "ax1.scatter(O1_x1,O1_x2)\n",
    "ax1.scatter(X1_x1,X1_x2,marker='+',color='red')\n",
    "ax1.set(xlabel='x1', ylabel='x2')\n",
    "ax1.grid()\n",
    "\n",
    "O2_x1 = [0,2]\n",
    "O2_x2 = [0,1]\n",
    "X2_x1 = [1]\n",
    "X2_x2 = [0]\n",
    "ax2.grid()\n",
    "ax2.scatter(O2_x1,O2_x2,color='red')\n",
    "ax2.scatter(X2_x1,X2_x2,marker='+',color='red')\n",
    "ax2.set(xlabel='h1', ylabel='h2')\n",
    "y2 = np.arange(-0.4,1,0.1)\n",
    "y1 = 0.5 + 2*y2\n",
    "ax2.plot(y1,y2,\"b--\")\n",
    "\n",
    "# plt.savefig(\"Q10.png\")"
   ]
  }
 ],
 "metadata": {
  "interpreter": {
   "hash": "a25b2d42e0fe57251b6ece2b75d30429fe26895efea1faac6949f166a7477be7"
  },
  "kernelspec": {
   "display_name": "Python 3.10.4 64-bit",
   "language": "python",
   "name": "python3"
  },
  "language_info": {
   "codemirror_mode": {
    "name": "ipython",
    "version": 3
   },
   "file_extension": ".py",
   "mimetype": "text/x-python",
   "name": "python",
   "nbconvert_exporter": "python",
   "pygments_lexer": "ipython3",
   "version": "3.10.4"
  },
  "orig_nbformat": 4
 },
 "nbformat": 4,
 "nbformat_minor": 2
}
