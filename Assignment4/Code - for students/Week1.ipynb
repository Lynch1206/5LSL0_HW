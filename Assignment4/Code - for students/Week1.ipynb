{
 "cells": [
  {
   "cell_type": "markdown",
   "metadata": {},
   "source": [
    "# Week1\n",
    "## Load package"
   ]
  },
  {
   "cell_type": "code",
   "execution_count": 20,
   "metadata": {},
   "outputs": [
    {
     "name": "stdout",
     "output_type": "stream",
     "text": [
      "Folders in the Fast_MRI_Knee: ['MNIST', 'test', 'train']\n"
     ]
    }
   ],
   "source": [
    "# libraries\n",
    "import torch\n",
    "from torch.utils.data import Dataset,DataLoader\n",
    "import glob\n",
    "import numpy as np\n",
    "import matplotlib.pyplot as plt\n",
    "from tqdm import tqdm \n",
    "# local imports\n",
    "import MNIST_dataloader\n",
    "from scipy import linalg\n",
    "import os\n",
    "import bokeh\n",
    "PATH = os.path.join(os.getcwd(),'Fast_MRI_Knee')\n",
    "print('Folders in the Fast_MRI_Knee:',os.listdir(PATH))\n",
    "# Batch size\n",
    "batch_size = 64\n"
   ]
  },
  {
   "cell_type": "code",
   "execution_count": null,
   "metadata": {},
   "outputs": [],
   "source": [
    "# Load train and test\n",
    "train_loader, test_loader = MNIST_dataloader.create_dataloaders(PATH, batch_size)"
   ]
  },
  {
   "cell_type": "code",
   "execution_count": 19,
   "metadata": {},
   "outputs": [],
   "source": [
    "# Load data\n",
    "x_clean_train = train_loader.dataset.Clean_Images\n",
    "x_noisy_train = train_loader.dataset.Noisy_Images\n",
    "labels_train  = train_loader.dataset.Labels\n",
    "\n",
    "x_clean_test  = test_loader.dataset.Clean_Images\n",
    "x_noisy_test  = test_loader.dataset.Noisy_Images\n",
    "labels_test   = test_loader.dataset.Labels\n",
    "\n",
    "# use these 10 examples as representations for all digits\n",
    "x_clean_example = x_clean_test[0:10,:,:,:]\n",
    "x_noisy_example = x_noisy_test[0:10,:,:,:]\n",
    "labels_example = labels_test[0:10]"
   ]
  },
  {
   "cell_type": "markdown",
   "metadata": {},
   "source": [
    "Data shape and matrix shape."
   ]
  },
  {
   "cell_type": "code",
   "execution_count": null,
   "metadata": {},
   "outputs": [],
   "source": [
    "x_clean_train.size() #60000 examples of 28x28 pixels in grayscale\n",
    "\n",
    "(x_clean_example[0])\n",
    "# tensor([[[-1., -1., -1.,  ..., -1., -1., -1.],\n",
    "#          [-1., -1., -1.,  ..., -1., -1., -1.],\n",
    "#          [-1., -1., -1.,  ..., -1., -1., -1.],\n",
    "#          ...,\n",
    "#          [-1., -1., -1.,  ..., -1., -1., -1.],\n",
    "#          [-1., -1., -1.,  ..., -1., -1., -1.],\n",
    "#          [-1., -1., -1.,  ..., -1., -1., -1.]]])\n",
    "\n",
    "x_clean_example[0].size() # [1, 32, 32])"
   ]
  },
  {
   "cell_type": "markdown",
   "metadata": {},
   "source": [
    "## a - Implement ISTA for MNIST denoising.\n",
    "Input requires Stepsize - `mu`, shrinkage parameter - `shrinkage`, number of iteration `K`, and measurement Batch of MNIST images[10 images \\ Matrix] `y`.\n",
    "\n",
    "Output reconstructions `x_k`."
   ]
  },
  {
   "cell_type": "markdown",
   "metadata": {},
   "source": [
    "## ISTA\n"
   ]
  },
  {
   "cell_type": "code",
   "execution_count": null,
   "metadata": {},
   "outputs": [],
   "source": [
    "def soft_thresh(x, l):\n",
    "    return np.sign(x) * np.maximum(np.abs(x) - l, 0.)\n",
    "\n",
    "\n",
    "def ista(A, b, l, maxit):\n",
    "    x = np.zeros(A.shape[1])\n",
    "    pobj = []\n",
    "    L = linalg.norm(A) ** 2  # Lipschitz constant\n",
    "    time0 = time.time()\n",
    "    for _ in xrange(maxit):\n",
    "        x = soft_thresh(x + np.dot(A.T, b - A.dot(x)) / L, l / L)\n",
    "        this_pobj = 0.5 * linalg.norm(A.dot(x) - b) ** 2 + l * linalg.norm(x, 1)\n",
    "        pobj.append((time.time() - time0, this_pobj))\n",
    "\n",
    "    times, pobj = map(np.array, zip(*pobj))\n",
    "    return x, pobj, times"
   ]
  },
  {
   "cell_type": "code",
   "execution_count": 21,
   "metadata": {},
   "outputs": [],
   "source": [
    "class ISTA(object):\n",
    "    def __init__(self, mu,K,l,A):\n",
    "        self.mu = mu\n",
    "        self.K = K\n",
    "        self.l= int(l)\n",
    "        self.A = A\n",
    "    def shrinkage()\n",
    "def softthreshold(x,l):\n",
    "    return np.sign(x) * np.maximum(np.abs(x) - l, 0.)\n",
    "\n",
    "def shrinkage(x, theta):\n",
    "    return np.multiply(np.sign(x), np.maximum(np.abs(x) - theta, 0))\n",
    "\n",
    "def ista(X, W_d, a, L, max_iter, eps):\n",
    "    # a is the sparse coefficient\n",
    "    eig, eig_vector = np.linalg.eig(W_d.T * W_d)\n",
    "    assert L > np.max(eig)\n",
    "    del eig, eig_vector\n",
    "    \n",
    "    W_e = W_d.T / L\n",
    "\n",
    "    recon_errors = []\n",
    "    Z_old = np.zeros((W_d.shape[1], 1))\n",
    "    for i in range(max_iter):\n",
    "        temp = W_d * Z_old - X\n",
    "        Z_new = shrinkage(Z_old - W_e * temp, a / L)\n",
    "        if np.sum(np.abs(Z_new - Z_old)) <= eps: break\n",
    "        Z_old = Z_new\n",
    "        recon_error = np.linalg.norm(X - W_d * Z_new, 2) ** 2\n",
    "        recon_errors.append(recon_error)\n",
    "        \n",
    "    return Z_new, recon_errors"
   ]
  },
  {
   "cell_type": "code",
   "execution_count": null,
   "metadata": {},
   "outputs": [],
   "source": [
    "\n",
    "mu =\n",
    "shrinkage = \n",
    "K = "
   ]
  },
  {
   "cell_type": "code",
   "execution_count": null,
   "metadata": {},
   "outputs": [],
   "source": []
  }
 ],
 "metadata": {
  "interpreter": {
   "hash": "2a95301de976fbfc23a56389afd986f664bd17ceab0b99c4c4db41e56a72a2a5"
  },
  "kernelspec": {
   "display_name": "Python 3.10.4 ('.venv': venv)",
   "language": "python",
   "name": "python3"
  },
  "language_info": {
   "codemirror_mode": {
    "name": "ipython",
    "version": 3
   },
   "file_extension": ".py",
   "mimetype": "text/x-python",
   "name": "python",
   "nbconvert_exporter": "python",
   "pygments_lexer": "ipython3",
   "version": "3.10.4"
  },
  "orig_nbformat": 4
 },
 "nbformat": 4,
 "nbformat_minor": 2
}
