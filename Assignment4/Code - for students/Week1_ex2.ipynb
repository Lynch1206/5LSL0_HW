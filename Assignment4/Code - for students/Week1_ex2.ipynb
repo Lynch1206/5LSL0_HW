{
 "cells": [
  {
   "cell_type": "code",
   "execution_count": 8,
   "metadata": {},
   "outputs": [
    {
     "name": "stdout",
     "output_type": "stream",
     "text": [
      "Folders in the Fast_MRI_Knee: ['MNIST', 'test', 'train']\n"
     ]
    }
   ],
   "source": [
    "# libraries\n",
    "import torch\n",
    "from torch.utils.data import Dataset,DataLoader\n",
    "import glob\n",
    "import numpy as np\n",
    "import matplotlib.pyplot as plt\n",
    "from tqdm import tqdm \n",
    "# local imports\n",
    "import MNIST_dataloader\n",
    "from scipy import linalg\n",
    "import os\n",
    "import bokeh\n",
    "from ISTA import ISTAI_main\n",
    "PATH = os.path.join(os.getcwd(),'Fast_MRI_Knee')\n",
    "print('Folders in the Fast_MRI_Knee:',os.listdir(PATH)) # os.listdir(PATH)\n",
    "# Batch size\n",
    "batch_size = 64\n",
    "# Load train and test\n",
    "train_loader, test_loader = MNIST_dataloader.create_dataloaders(PATH, batch_size)\n",
    "\n",
    "if  torch.cuda.is_available():\n",
    "    device = torch.device('cuda')\n",
    "else:\n",
    "    device = torch.device('cpu')\n",
    "\n",
    "# Load data\n",
    "x_clean_train = train_loader.dataset.Clean_Images\n",
    "x_noisy_train = train_loader.dataset.Noisy_Images\n",
    "labels_train  = train_loader.dataset.Labels\n",
    "\n",
    "x_clean_test  = test_loader.dataset.Clean_Images\n",
    "x_noisy_test  = test_loader.dataset.Noisy_Images\n",
    "labels_test   = test_loader.dataset.Labels\n",
    "\n",
    "# use these 10 examples as representations for all digits\n",
    "x_clean_example = x_clean_test[0:10,:,:,:]\n",
    "x_noisy_example = x_noisy_test[0:10,:,:,:]\n",
    "labels_example = labels_test[0:10]"
   ]
  },
  {
   "cell_type": "markdown",
   "metadata": {},
   "source": [
    "# Week1 \n",
    "## Exercise 2\n",
    "## Learned ISTA (LISTA)\n",
    "\n",
    "In this section, we need to evlove the ISTA into a set of neural netowrk layers. Before to do so, recap of ISTA for sparse decoding problem is following:\n",
    "\n",
    "$$\n",
    "\\begin{equation}\n",
    "    x^{k+1}=\\mathacal{T}_\\lambda(x^k-\\mu A^T(Ax^k-y))\n",
    "\\end{equation}\n",
    "$$"
   ]
  },
  {
   "cell_type": "code",
   "execution_count": 3,
   "metadata": {},
   "outputs": [
    {
     "name": "stdout",
     "output_type": "stream",
     "text": [
      "d:\\01_School\\Q4_5LSL0_MachineLearningForsignalProcessing\\SignalProcessing\\5LSL0_HW\\Assignment4\\Code - for students\\Fast_MRI_Knee\n"
     ]
    }
   ],
   "source": [
    "import torch\n",
    "from torch.utils.data import Dataset,DataLoader\n",
    "import glob\n",
    "import numpy as np\n",
    "import matplotlib.pyplot as plt\n",
    "from tqdm import tqdm \n",
    "from matplotlib.image import imread\n",
    "import numpy as np\n",
    "from scipy import linalg\n",
    "import torch\n",
    "\n",
    "import torch.nn as nn\n",
    "import torch.nn.functional as F\n",
    "import Fast_MRI_dataloader \n",
    "batch_size = 64\n",
    "\n",
    "class Fast_MRI(Dataset):\n",
    "    # initialization of the dataset\n",
    "    def __init__(self, split,data_loc):\n",
    "        # save the input parameters\n",
    "        self.split    = split \n",
    "        self.data_loc = data_loc\n",
    "        \n",
    "        # get all the files\n",
    "        self.file_names = glob.glob(f\"{data_loc}//{split}//*.npz\")\n",
    "    \n",
    "    # return the number of examples in this dataset\n",
    "    def __len__(self):\n",
    "        return len(self.file_names)*5\n",
    "    \n",
    "    # create a a method that retrieves a single item form the dataset\n",
    "    def __getitem__(self, idx):\n",
    "        file_name = self.file_names[idx//5]\n",
    "        data = np.load(file_name)\n",
    "        \n",
    "        kspace = data['kspace']\n",
    "        M = data['M']\n",
    "        gt = data['gt']\n",
    "        \n",
    "        # get one of 3 slices\n",
    "        kspace = kspace[idx%5,:,:]\n",
    "        gt = gt[idx%5,:,:]\n",
    "        \n",
    "        return kspace, M, gt\n",
    "\n",
    "PATH = os.path.join(os.getcwd(),'Fast_MRI_Knee')\n",
    "print(PATH)\n",
    "\n",
    "train_loader, test_loader = Fast_MRI_dataloader.create_dataloaders(PATH, batch_size)\n",
    "\n"
   ]
  },
  {
   "cell_type": "markdown",
   "metadata": {},
   "source": [
    "## LISTA Function\n"
   ]
  },
  {
   "cell_type": "markdown",
   "metadata": {},
   "source": [
    "$$\n",
    "\\begin{equation*}\n",
    "    x^{k+1} = \\Tau_\\lambda(W_1y+W_2x^k)\n",
    "\\end{equation*}\n",
    "$$\n",
    "\n",
    "$$\n",
    "\\begin{equation}\n",
    "    \\Tau_\\lambda((I-\\mu A^TA)x+\\mu Ay)\n",
    "\\end{equation}\n",
    "$$"
   ]
  },
  {
   "cell_type": "code",
   "execution_count": 122,
   "metadata": {},
   "outputs": [
    {
     "name": "stderr",
     "output_type": "stream",
     "text": [
      "100%|██████████| 938/938 [00:01<00:00, 730.75it/s]"
     ]
    },
    {
     "name": "stdout",
     "output_type": "stream",
     "text": [
      "torch.Size([32, 1, 32, 32])\n",
      "smoother inputs torch.Size([32, 1, 32, 32])\n"
     ]
    },
    {
     "name": "stderr",
     "output_type": "stream",
     "text": [
      "\n"
     ]
    }
   ],
   "source": [
    "from torch.autograd import Variable\n",
    "class smoother(nn.Module):\n",
    "    def __init__(self):\n",
    "        # ,mu,shrinkage,K,y\n",
    "        super(smoother,self).__init__()\n",
    "        self.weight = Variable(torch.ones(1),requires_grad=True)\n",
    "        \n",
    "    def forward(self,x):\n",
    "        \"\"\"smooth forwarder\n",
    "        return x + 0.5*(torch.sqrt( torch.square(x + self.weight) + 1) - torch.sqrt( torch.square(x + self.weight) + 1) )\n",
    "        \"\"\"\n",
    "\n",
    "        x = x + 0.5*(torch.sqrt( torch.square(x + self.weight) + 1) - torch.sqrt( torch.square(x + self.weight) + 1) )\n",
    "        return x\n",
    "\n",
    "\n",
    "\n",
    "class LISTA_(nn.Module):\n",
    "    def __init__(self,k=3):\n",
    "        super(LISTA_,self).__init__()\n",
    "        \"\"\" 2 convolutional layers & 1 smoother layer \"\"\"\n",
    "        self.x = torch.nn.Conv2d(in_channels=1,out_channels=1,kernel_size=3,padding=1) \n",
    "        self.y = torch.nn.Conv2d(in_channels=1,out_channels=1,kernel_size=3,padding=1) \n",
    "        self.k = k\n",
    "        self.smoother = nn.ModuleList(smoother() for i in range(self.k))\n",
    "        \n",
    "\n",
    "    def forward(self,y):\n",
    "        x = torch.zeros_like(y,requires_grad=False)\n",
    "        for i in range(self.k):\n",
    "            y_ = self.y(y)\n",
    "            x_ = self.x(x)\n",
    "            x = self.smoother[i](y_+x_)\n",
    "        # x_init = torch.tensor(np.random.randn(64, 1, 32, 32), dtype=torch.float)\n",
    "        # recon = 0\n",
    "\n",
    "        # x1 = self.x(x_init)\n",
    "        # y1 = self.y(y)\n",
    "        # recon =recon+ self.smoother(x1+y1)\n",
    "\n",
    "        # x2 = self.x(recon)\n",
    "        # y2 = self.y(y)\n",
    "        # recon =recon+ self.smoother(x2+y2)\n",
    "\n",
    "        # x3 = self.x(recon)\n",
    "        # y3 = self.y(y)\n",
    "        # recon =recon+ self.smoother(x3+y3)\n",
    "\n",
    "        # x = x + 0.5*(torch.sqrt( torch.square(x + self.weight) + 1) - torch.sqrt( torch.square(x + self.weight) + 1) )\n",
    "        return x\n",
    "\n",
    "\n",
    "for batch_idx,(x_clean,x_noisy,_) in enumerate(tqdm(train_loader)):\n",
    "    inputs = x_noisy\n",
    "\n",
    "print(inputs.shape)\n",
    "\n",
    "\n",
    "md = LISTA_(3)\n",
    "\n",
    "x = torch.nn.Conv2d(in_channels=1,out_channels=1,kernel_size=3,padding=1) \n",
    "\n",
    "X = md(inputs)\n",
    "# sanity check\n",
    "print('smoother inputs',md(inputs).shape)\n",
    "\n",
    "\n"
   ]
  },
  {
   "cell_type": "code",
   "execution_count": 156,
   "metadata": {},
   "outputs": [],
   "source": [
    "# Optimizer\n",
    "learning_rate = 1e-2\n",
    "model = LISTA_()\n",
    "\n",
    "optimizer = torch.optim.Adam(model.parameters(),lr = learning_rate)\n",
    "\n"
   ]
  },
  {
   "cell_type": "code",
   "execution_count": 157,
   "metadata": {},
   "outputs": [
    {
     "name": "stderr",
     "output_type": "stream",
     "text": [
      "100%|██████████| 938/938 [00:35<00:00, 26.19it/s]"
     ]
    },
    {
     "name": "stdout",
     "output_type": "stream",
     "text": [
      "epoch[1/10],MSE loss:0.06047653779387474\n"
     ]
    },
    {
     "name": "stderr",
     "output_type": "stream",
     "text": [
      "\n",
      "100%|██████████| 938/938 [00:41<00:00, 22.42it/s]"
     ]
    },
    {
     "name": "stdout",
     "output_type": "stream",
     "text": [
      "epoch[2/10],MSE loss:0.04201614856719971\n"
     ]
    },
    {
     "name": "stderr",
     "output_type": "stream",
     "text": [
      "\n",
      "100%|██████████| 938/938 [00:46<00:00, 20.14it/s]"
     ]
    },
    {
     "name": "stdout",
     "output_type": "stream",
     "text": [
      "epoch[3/10],MSE loss:0.04168436676263809\n"
     ]
    },
    {
     "name": "stderr",
     "output_type": "stream",
     "text": [
      "\n",
      "100%|██████████| 938/938 [00:44<00:00, 20.89it/s]"
     ]
    },
    {
     "name": "stdout",
     "output_type": "stream",
     "text": [
      "epoch[4/10],MSE loss:0.04136406257748604\n"
     ]
    },
    {
     "name": "stderr",
     "output_type": "stream",
     "text": [
      "\n",
      "100%|██████████| 938/938 [00:43<00:00, 21.79it/s]"
     ]
    },
    {
     "name": "stdout",
     "output_type": "stream",
     "text": [
      "epoch[5/10],MSE loss:0.041213132441043854\n"
     ]
    },
    {
     "name": "stderr",
     "output_type": "stream",
     "text": [
      "\n",
      "100%|██████████| 938/938 [00:43<00:00, 21.36it/s]"
     ]
    },
    {
     "name": "stdout",
     "output_type": "stream",
     "text": [
      "epoch[6/10],MSE loss:0.04116251692175865\n"
     ]
    },
    {
     "name": "stderr",
     "output_type": "stream",
     "text": [
      "\n",
      "100%|██████████| 938/938 [00:41<00:00, 22.86it/s]"
     ]
    },
    {
     "name": "stdout",
     "output_type": "stream",
     "text": [
      "epoch[7/10],MSE loss:0.04112439602613449\n"
     ]
    },
    {
     "name": "stderr",
     "output_type": "stream",
     "text": [
      "\n",
      "100%|██████████| 938/938 [00:40<00:00, 22.97it/s]"
     ]
    },
    {
     "name": "stdout",
     "output_type": "stream",
     "text": [
      "epoch[8/10],MSE loss:0.0410991869866848\n"
     ]
    },
    {
     "name": "stderr",
     "output_type": "stream",
     "text": [
      "\n",
      "100%|██████████| 938/938 [00:38<00:00, 24.46it/s]"
     ]
    },
    {
     "name": "stdout",
     "output_type": "stream",
     "text": [
      "epoch[9/10],MSE loss:0.041120294481515884\n"
     ]
    },
    {
     "name": "stderr",
     "output_type": "stream",
     "text": [
      "\n",
      "100%|██████████| 938/938 [00:39<00:00, 23.83it/s]"
     ]
    },
    {
     "name": "stdout",
     "output_type": "stream",
     "text": [
      "epoch[10/10],MSE loss:0.04110052064061165\n"
     ]
    },
    {
     "name": "stderr",
     "output_type": "stream",
     "text": [
      "\n"
     ]
    }
   ],
   "source": [
    "import sys\n",
    "from tqdm import tqdm\n",
    "loss_iter = []\n",
    "loss_epoch = []\n",
    "critereon = nn.MSELoss()\n",
    "no_epochs = 10\n",
    "\n",
    "device = \"cuda\" if torch.cuda.is_available() else \"cpu\"\n",
    "\n",
    "\n",
    "\n",
    "for epoch in range(no_epochs):\n",
    "    total_loss = 0\n",
    "    sys.stdout.flush()\n",
    "    for batch_idx,(x_clean,x_noisy,_) in enumerate(tqdm(train_loader)):\n",
    "        optimizer.zero_grad()\n",
    "        inputs = x_noisy.to(device=device)\n",
    "        inputs = inputs+1\n",
    "        # print(inputs.size())\n",
    "        # inputs = torch.flatten(inputs)+1\n",
    "        # print(inputs.size())\n",
    "        model = model.to(device=device)\n",
    "        outputs = model(inputs)\n",
    "\n",
    "        loss = critereon(outputs,x_clean)\n",
    "        loss.backward()\n",
    "        optimizer.step()\n",
    "        loss_iter.append(loss.data)\n",
    "        total_loss += loss.data\n",
    "    loss_epoch.append(total_loss/len(train_loader))\n",
    "    print(f'epoch[{epoch+1}/{no_epochs}],MSE loss:{total_loss/len(train_loader)}')\n",
    "    sys.stdout.flush()"
   ]
  },
  {
   "cell_type": "code",
   "execution_count": 158,
   "metadata": {},
   "outputs": [
    {
     "data": {
      "text/html": [
       "\n",
       "  <div class=\"bk-root\" id=\"324b17ee-a597-450d-89a5-c3954131649f\" data-root-id=\"1547\"></div>\n"
      ]
     },
     "metadata": {},
     "output_type": "display_data"
    },
    {
     "data": {
      "application/javascript": "(function(root) {\n  function embed_document(root) {\n  const docs_json = {\"32ce0e3c-8b71-4a0c-95bf-cffc3da7f92b\":{\"defs\":[],\"roots\":{\"references\":[{\"attributes\":{\"below\":[{\"id\":\"1558\"}],\"center\":[{\"id\":\"1561\"},{\"id\":\"1565\"}],\"left\":[{\"id\":\"1562\"}],\"renderers\":[{\"id\":\"1584\"}],\"title\":{\"id\":\"1548\"},\"toolbar\":{\"id\":\"1573\"},\"x_range\":{\"id\":\"1550\"},\"x_scale\":{\"id\":\"1554\"},\"y_range\":{\"id\":\"1552\"},\"y_scale\":{\"id\":\"1556\"}},\"id\":\"1547\",\"subtype\":\"Figure\",\"type\":\"Plot\"},{\"attributes\":{\"data\":{\"x\":{\"__ndarray__\":\"AAAAAAAAAAByHMdxHMfxP3Icx3EcxwFAq6qqqqqqCkByHMdxHMcRQI7jOI7jOBZAq6qqqqqqGkDIcRzHcRwfQHIcx3EcxyFAAAAAAAAAJEA=\",\"dtype\":\"float64\",\"order\":\"little\",\"shape\":[10]},\"y\":{\"__ndarray__\":\"P7Z3PSAZLD06vSo9XW0pPRrPKD0Hmig9DnIoPZ9XKD3BbSg9BVkoPQ==\",\"dtype\":\"float32\",\"order\":\"little\",\"shape\":[10]}},\"selected\":{\"id\":\"1624\"},\"selection_policy\":{\"id\":\"1623\"}},\"id\":\"1580\",\"type\":\"ColumnDataSource\"},{\"attributes\":{\"bottom_units\":\"screen\",\"coordinates\":null,\"fill_alpha\":0.5,\"fill_color\":\"lightgrey\",\"group\":null,\"left_units\":\"screen\",\"level\":\"overlay\",\"line_alpha\":1.0,\"line_color\":\"black\",\"line_dash\":[4,4],\"line_width\":2,\"right_units\":\"screen\",\"syncable\":false,\"top_units\":\"screen\"},\"id\":\"1572\",\"type\":\"BoxAnnotation\"},{\"attributes\":{},\"id\":\"1567\",\"type\":\"WheelZoomTool\"},{\"attributes\":{},\"id\":\"1563\",\"type\":\"BasicTicker\"},{\"attributes\":{\"axis_label\":\"ISTA_loss\",\"coordinates\":null,\"formatter\":{\"id\":\"1618\"},\"group\":null,\"major_label_policy\":{\"id\":\"1619\"},\"ticker\":{\"id\":\"1563\"}},\"id\":\"1562\",\"type\":\"LinearAxis\"},{\"attributes\":{},\"id\":\"1570\",\"type\":\"ResetTool\"},{\"attributes\":{\"axis\":{\"id\":\"1562\"},\"coordinates\":null,\"dimension\":1,\"group\":null,\"ticker\":null},\"id\":\"1565\",\"type\":\"Grid\"},{\"attributes\":{},\"id\":\"1566\",\"type\":\"PanTool\"},{\"attributes\":{\"overlay\":{\"id\":\"1572\"}},\"id\":\"1568\",\"type\":\"BoxZoomTool\"},{\"attributes\":{},\"id\":\"1569\",\"type\":\"SaveTool\"},{\"attributes\":{\"tools\":[{\"id\":\"1566\"},{\"id\":\"1567\"},{\"id\":\"1568\"},{\"id\":\"1569\"},{\"id\":\"1570\"},{\"id\":\"1571\"}]},\"id\":\"1573\",\"type\":\"Toolbar\"},{\"attributes\":{\"axis\":{\"id\":\"1558\"},\"coordinates\":null,\"group\":null,\"ticker\":null},\"id\":\"1561\",\"type\":\"Grid\"},{\"attributes\":{},\"id\":\"1554\",\"type\":\"LinearScale\"},{\"attributes\":{\"axis_label\":\"Iteration\",\"coordinates\":null,\"formatter\":{\"id\":\"1621\"},\"group\":null,\"major_label_policy\":{\"id\":\"1622\"},\"ticker\":{\"id\":\"1559\"}},\"id\":\"1558\",\"type\":\"LinearAxis\"},{\"attributes\":{},\"id\":\"1571\",\"type\":\"HelpTool\"},{\"attributes\":{\"source\":{\"id\":\"1580\"}},\"id\":\"1585\",\"type\":\"CDSView\"},{\"attributes\":{},\"id\":\"1624\",\"type\":\"Selection\"},{\"attributes\":{},\"id\":\"1619\",\"type\":\"AllLabels\"},{\"attributes\":{\"coordinates\":null,\"group\":null,\"text\":\"EX1 c part\"},\"id\":\"1548\",\"type\":\"Title\"},{\"attributes\":{},\"id\":\"1618\",\"type\":\"BasicTickFormatter\"},{\"attributes\":{},\"id\":\"1621\",\"type\":\"BasicTickFormatter\"},{\"attributes\":{},\"id\":\"1559\",\"type\":\"BasicTicker\"},{\"attributes\":{\"line_alpha\":0.2,\"line_color\":\"#1f77b4\",\"line_width\":2,\"x\":{\"field\":\"x\"},\"y\":{\"field\":\"y\"}},\"id\":\"1583\",\"type\":\"Line\"},{\"attributes\":{},\"id\":\"1622\",\"type\":\"AllLabels\"},{\"attributes\":{\"line_color\":\"#1f77b4\",\"line_width\":2,\"x\":{\"field\":\"x\"},\"y\":{\"field\":\"y\"}},\"id\":\"1581\",\"type\":\"Line\"},{\"attributes\":{},\"id\":\"1550\",\"type\":\"DataRange1d\"},{\"attributes\":{},\"id\":\"1623\",\"type\":\"UnionRenderers\"},{\"attributes\":{},\"id\":\"1556\",\"type\":\"LinearScale\"},{\"attributes\":{\"line_alpha\":0.1,\"line_color\":\"#1f77b4\",\"line_width\":2,\"x\":{\"field\":\"x\"},\"y\":{\"field\":\"y\"}},\"id\":\"1582\",\"type\":\"Line\"},{\"attributes\":{},\"id\":\"1552\",\"type\":\"DataRange1d\"},{\"attributes\":{\"coordinates\":null,\"data_source\":{\"id\":\"1580\"},\"glyph\":{\"id\":\"1581\"},\"group\":null,\"hover_glyph\":null,\"muted_glyph\":{\"id\":\"1583\"},\"nonselection_glyph\":{\"id\":\"1582\"},\"view\":{\"id\":\"1585\"}},\"id\":\"1584\",\"type\":\"GlyphRenderer\"}],\"root_ids\":[\"1547\"]},\"title\":\"Bokeh Application\",\"version\":\"2.4.3\"}};\n  const render_items = [{\"docid\":\"32ce0e3c-8b71-4a0c-95bf-cffc3da7f92b\",\"notebook_comms_target\":\"1626\",\"root_ids\":[\"1547\"],\"roots\":{\"1547\":\"324b17ee-a597-450d-89a5-c3954131649f\"}}];\n  root.Bokeh.embed.embed_items_notebook(docs_json, render_items);\n  }\n  if (root.Bokeh !== undefined) {\n    embed_document(root);\n  } else {\n    let attempts = 0;\n    const timer = setInterval(function(root) {\n      if (root.Bokeh !== undefined) {\n        clearInterval(timer);\n        embed_document(root);\n      } else {\n        attempts++;\n        if (attempts > 100) {\n          clearInterval(timer);\n          console.log(\"Bokeh: ERROR: Unable to run BokehJS code because BokehJS library is missing\");\n        }\n      }\n    }, 10, root)\n  }\n})(window);",
      "application/vnd.bokehjs_exec.v0+json": ""
     },
     "metadata": {
      "application/vnd.bokehjs_exec.v0+json": {
       "id": "1547"
      }
     },
     "output_type": "display_data"
    },
    {
     "data": {
      "text/html": [
       "<div class=\"bk-root\">\n",
       "        <a href=\"https://bokeh.org\" target=\"_blank\" class=\"bk-logo bk-logo-small bk-logo-notebook\"></a>\n",
       "        <span id=\"1677\">Loading BokehJS ...</span>\n",
       "    </div>\n"
      ]
     },
     "metadata": {},
     "output_type": "display_data"
    },
    {
     "data": {
      "application/javascript": "(function(root) {\n  function now() {\n    return new Date();\n  }\n\n  const force = true;\n\n  if (typeof root._bokeh_onload_callbacks === \"undefined\" || force === true) {\n    root._bokeh_onload_callbacks = [];\n    root._bokeh_is_loading = undefined;\n  }\n\nconst JS_MIME_TYPE = 'application/javascript';\n  const HTML_MIME_TYPE = 'text/html';\n  const EXEC_MIME_TYPE = 'application/vnd.bokehjs_exec.v0+json';\n  const CLASS_NAME = 'output_bokeh rendered_html';\n\n  /**\n   * Render data to the DOM node\n   */\n  function render(props, node) {\n    const script = document.createElement(\"script\");\n    node.appendChild(script);\n  }\n\n  /**\n   * Handle when an output is cleared or removed\n   */\n  function handleClearOutput(event, handle) {\n    const cell = handle.cell;\n\n    const id = cell.output_area._bokeh_element_id;\n    const server_id = cell.output_area._bokeh_server_id;\n    // Clean up Bokeh references\n    if (id != null && id in Bokeh.index) {\n      Bokeh.index[id].model.document.clear();\n      delete Bokeh.index[id];\n    }\n\n    if (server_id !== undefined) {\n      // Clean up Bokeh references\n      const cmd_clean = \"from bokeh.io.state import curstate; print(curstate().uuid_to_server['\" + server_id + \"'].get_sessions()[0].document.roots[0]._id)\";\n      cell.notebook.kernel.execute(cmd_clean, {\n        iopub: {\n          output: function(msg) {\n            const id = msg.content.text.trim();\n            if (id in Bokeh.index) {\n              Bokeh.index[id].model.document.clear();\n              delete Bokeh.index[id];\n            }\n          }\n        }\n      });\n      // Destroy server and session\n      const cmd_destroy = \"import bokeh.io.notebook as ion; ion.destroy_server('\" + server_id + \"')\";\n      cell.notebook.kernel.execute(cmd_destroy);\n    }\n  }\n\n  /**\n   * Handle when a new output is added\n   */\n  function handleAddOutput(event, handle) {\n    const output_area = handle.output_area;\n    const output = handle.output;\n\n    // limit handleAddOutput to display_data with EXEC_MIME_TYPE content only\n    if ((output.output_type != \"display_data\") || (!Object.prototype.hasOwnProperty.call(output.data, EXEC_MIME_TYPE))) {\n      return\n    }\n\n    const toinsert = output_area.element.find(\".\" + CLASS_NAME.split(' ')[0]);\n\n    if (output.metadata[EXEC_MIME_TYPE][\"id\"] !== undefined) {\n      toinsert[toinsert.length - 1].firstChild.textContent = output.data[JS_MIME_TYPE];\n      // store reference to embed id on output_area\n      output_area._bokeh_element_id = output.metadata[EXEC_MIME_TYPE][\"id\"];\n    }\n    if (output.metadata[EXEC_MIME_TYPE][\"server_id\"] !== undefined) {\n      const bk_div = document.createElement(\"div\");\n      bk_div.innerHTML = output.data[HTML_MIME_TYPE];\n      const script_attrs = bk_div.children[0].attributes;\n      for (let i = 0; i < script_attrs.length; i++) {\n        toinsert[toinsert.length - 1].firstChild.setAttribute(script_attrs[i].name, script_attrs[i].value);\n        toinsert[toinsert.length - 1].firstChild.textContent = bk_div.children[0].textContent\n      }\n      // store reference to server id on output_area\n      output_area._bokeh_server_id = output.metadata[EXEC_MIME_TYPE][\"server_id\"];\n    }\n  }\n\n  function register_renderer(events, OutputArea) {\n\n    function append_mime(data, metadata, element) {\n      // create a DOM node to render to\n      const toinsert = this.create_output_subarea(\n        metadata,\n        CLASS_NAME,\n        EXEC_MIME_TYPE\n      );\n      this.keyboard_manager.register_events(toinsert);\n      // Render to node\n      const props = {data: data, metadata: metadata[EXEC_MIME_TYPE]};\n      render(props, toinsert[toinsert.length - 1]);\n      element.append(toinsert);\n      return toinsert\n    }\n\n    /* Handle when an output is cleared or removed */\n    events.on('clear_output.CodeCell', handleClearOutput);\n    events.on('delete.Cell', handleClearOutput);\n\n    /* Handle when a new output is added */\n    events.on('output_added.OutputArea', handleAddOutput);\n\n    /**\n     * Register the mime type and append_mime function with output_area\n     */\n    OutputArea.prototype.register_mime_type(EXEC_MIME_TYPE, append_mime, {\n      /* Is output safe? */\n      safe: true,\n      /* Index of renderer in `output_area.display_order` */\n      index: 0\n    });\n  }\n\n  // register the mime type if in Jupyter Notebook environment and previously unregistered\n  if (root.Jupyter !== undefined) {\n    const events = require('base/js/events');\n    const OutputArea = require('notebook/js/outputarea').OutputArea;\n\n    if (OutputArea.prototype.mime_types().indexOf(EXEC_MIME_TYPE) == -1) {\n      register_renderer(events, OutputArea);\n    }\n  }\n  if (typeof (root._bokeh_timeout) === \"undefined\" || force === true) {\n    root._bokeh_timeout = Date.now() + 5000;\n    root._bokeh_failed_load = false;\n  }\n\n  const NB_LOAD_WARNING = {'data': {'text/html':\n     \"<div style='background-color: #fdd'>\\n\"+\n     \"<p>\\n\"+\n     \"BokehJS does not appear to have successfully loaded. If loading BokehJS from CDN, this \\n\"+\n     \"may be due to a slow or bad network connection. Possible fixes:\\n\"+\n     \"</p>\\n\"+\n     \"<ul>\\n\"+\n     \"<li>re-rerun `output_notebook()` to attempt to load from CDN again, or</li>\\n\"+\n     \"<li>use INLINE resources instead, as so:</li>\\n\"+\n     \"</ul>\\n\"+\n     \"<code>\\n\"+\n     \"from bokeh.resources import INLINE\\n\"+\n     \"output_notebook(resources=INLINE)\\n\"+\n     \"</code>\\n\"+\n     \"</div>\"}};\n\n  function display_loaded() {\n    const el = document.getElementById(\"1677\");\n    if (el != null) {\n      el.textContent = \"BokehJS is loading...\";\n    }\n    if (root.Bokeh !== undefined) {\n      if (el != null) {\n        el.textContent = \"BokehJS \" + root.Bokeh.version + \" successfully loaded.\";\n      }\n    } else if (Date.now() < root._bokeh_timeout) {\n      setTimeout(display_loaded, 100)\n    }\n  }\n\n  function run_callbacks() {\n    try {\n      root._bokeh_onload_callbacks.forEach(function(callback) {\n        if (callback != null)\n          callback();\n      });\n    } finally {\n      delete root._bokeh_onload_callbacks\n    }\n    console.debug(\"Bokeh: all callbacks have finished\");\n  }\n\n  function load_libs(css_urls, js_urls, callback) {\n    if (css_urls == null) css_urls = [];\n    if (js_urls == null) js_urls = [];\n\n    root._bokeh_onload_callbacks.push(callback);\n    if (root._bokeh_is_loading > 0) {\n      console.debug(\"Bokeh: BokehJS is being loaded, scheduling callback at\", now());\n      return null;\n    }\n    if (js_urls == null || js_urls.length === 0) {\n      run_callbacks();\n      return null;\n    }\n    console.debug(\"Bokeh: BokehJS not loaded, scheduling load and callback at\", now());\n    root._bokeh_is_loading = css_urls.length + js_urls.length;\n\n    function on_load() {\n      root._bokeh_is_loading--;\n      if (root._bokeh_is_loading === 0) {\n        console.debug(\"Bokeh: all BokehJS libraries/stylesheets loaded\");\n        run_callbacks()\n      }\n    }\n\n    function on_error(url) {\n      console.error(\"failed to load \" + url);\n    }\n\n    for (let i = 0; i < css_urls.length; i++) {\n      const url = css_urls[i];\n      const element = document.createElement(\"link\");\n      element.onload = on_load;\n      element.onerror = on_error.bind(null, url);\n      element.rel = \"stylesheet\";\n      element.type = \"text/css\";\n      element.href = url;\n      console.debug(\"Bokeh: injecting link tag for BokehJS stylesheet: \", url);\n      document.body.appendChild(element);\n    }\n\n    for (let i = 0; i < js_urls.length; i++) {\n      const url = js_urls[i];\n      const element = document.createElement('script');\n      element.onload = on_load;\n      element.onerror = on_error.bind(null, url);\n      element.async = false;\n      element.src = url;\n      console.debug(\"Bokeh: injecting script tag for BokehJS library: \", url);\n      document.head.appendChild(element);\n    }\n  };\n\n  function inject_raw_css(css) {\n    const element = document.createElement(\"style\");\n    element.appendChild(document.createTextNode(css));\n    document.body.appendChild(element);\n  }\n\n  const js_urls = [\"https://cdn.bokeh.org/bokeh/release/bokeh-2.4.3.min.js\", \"https://cdn.bokeh.org/bokeh/release/bokeh-gl-2.4.3.min.js\", \"https://cdn.bokeh.org/bokeh/release/bokeh-widgets-2.4.3.min.js\", \"https://cdn.bokeh.org/bokeh/release/bokeh-tables-2.4.3.min.js\", \"https://cdn.bokeh.org/bokeh/release/bokeh-mathjax-2.4.3.min.js\"];\n  const css_urls = [];\n\n  const inline_js = [    function(Bokeh) {\n      Bokeh.set_log_level(\"info\");\n    },\nfunction(Bokeh) {\n    }\n  ];\n\n  function run_inline_js() {\n    if (root.Bokeh !== undefined || force === true) {\n          for (let i = 0; i < inline_js.length; i++) {\n      inline_js[i].call(root, root.Bokeh);\n    }\nif (force === true) {\n        display_loaded();\n      }} else if (Date.now() < root._bokeh_timeout) {\n      setTimeout(run_inline_js, 100);\n    } else if (!root._bokeh_failed_load) {\n      console.log(\"Bokeh: BokehJS failed to load within specified timeout.\");\n      root._bokeh_failed_load = true;\n    } else if (force !== true) {\n      const cell = $(document.getElementById(\"1677\")).parents('.cell').data().cell;\n      cell.output_area.append_execute_result(NB_LOAD_WARNING)\n    }\n  }\n\n  if (root._bokeh_is_loading === 0) {\n    console.debug(\"Bokeh: BokehJS loaded, going straight to plotting\");\n    run_inline_js();\n  } else {\n    load_libs(css_urls, js_urls, function() {\n      console.debug(\"Bokeh: BokehJS plotting callback run at\", now());\n      run_inline_js();\n    });\n  }\n}(window));",
      "application/vnd.bokehjs_load.v0+json": ""
     },
     "metadata": {},
     "output_type": "display_data"
    }
   ],
   "source": [
    "from bokeh.plotting import figure,show\n",
    "import matplotlib.pyplot as plt\n",
    "from bokeh.io import output_notebook\n",
    "y = np.array(loss_epoch)\n",
    "x = np.linspace(0,len(loss_epoch),num=len(loss_epoch))\n",
    "p = figure(title='EX1 c part',y_axis_label='ISTA_loss', x_axis_label='Iteration')\n",
    "p.line(x, y,line_width=2)\n",
    "show(p,notebook_handle=True)\n",
    "output_notebook()"
   ]
  },
  {
   "cell_type": "code",
   "execution_count": 1,
   "metadata": {},
   "outputs": [
    {
     "ename": "NameError",
     "evalue": "name 'outputs' is not defined",
     "output_type": "error",
     "traceback": [
      "\u001b[1;31m---------------------------------------------------------------------------\u001b[0m",
      "\u001b[1;31mNameError\u001b[0m                                 Traceback (most recent call last)",
      "\u001b[1;32md:\\01_School\\Q4_5LSL0_MachineLearningForsignalProcessing\\SignalProcessing\\5LSL0_HW\\Assignment4\\Code - for students\\Week1_ex2.ipynb Cell 10'\u001b[0m in \u001b[0;36m<cell line: 2>\u001b[1;34m()\u001b[0m\n\u001b[0;32m      <a href='vscode-notebook-cell:/d%3A/01_School/Q4_5LSL0_MachineLearningForsignalProcessing/SignalProcessing/5LSL0_HW/Assignment4/Code%20-%20for%20students/Week1_ex2.ipynb#ch0000009?line=0'>1</a>\u001b[0m \u001b[39mimport\u001b[39;00m \u001b[39mmatplotlib\u001b[39;00m\u001b[39m.\u001b[39;00m\u001b[39mpyplot\u001b[39;00m \u001b[39mas\u001b[39;00m \u001b[39mplt\u001b[39;00m\n\u001b[1;32m----> <a href='vscode-notebook-cell:/d%3A/01_School/Q4_5LSL0_MachineLearningForsignalProcessing/SignalProcessing/5LSL0_HW/Assignment4/Code%20-%20for%20students/Week1_ex2.ipynb#ch0000009?line=1'>2</a>\u001b[0m outputs\u001b[39m.\u001b[39msize()\n\u001b[0;32m      <a href='vscode-notebook-cell:/d%3A/01_School/Q4_5LSL0_MachineLearningForsignalProcessing/SignalProcessing/5LSL0_HW/Assignment4/Code%20-%20for%20students/Week1_ex2.ipynb#ch0000009?line=3'>4</a>\u001b[0m fig \u001b[39m=\u001b[39m plt\u001b[39m.\u001b[39mfigure(figsize\u001b[39m=\u001b[39m(\u001b[39m20\u001b[39m,\u001b[39m10\u001b[39m))\n\u001b[0;32m      <a href='vscode-notebook-cell:/d%3A/01_School/Q4_5LSL0_MachineLearningForsignalProcessing/SignalProcessing/5LSL0_HW/Assignment4/Code%20-%20for%20students/Week1_ex2.ipynb#ch0000009?line=4'>5</a>\u001b[0m \u001b[39mfor\u001b[39;00m i \u001b[39min\u001b[39;00m \u001b[39mrange\u001b[39m(\u001b[39m10\u001b[39m):\n",
      "\u001b[1;31mNameError\u001b[0m: name 'outputs' is not defined"
     ]
    }
   ],
   "source": [
    "import matplotlib.pyplot as plt\n",
    "outputs.size()\n",
    "\n",
    "fig = plt.figure(figsize=(20,10))\n",
    "for i in range(10):\n",
    "    ax1 = fig.add_subplot(3, 10, i+1)\n",
    "    ax1.imshow(x_noisy[i,0,:,:],cmap='gray')\n",
    "    plt.yticks([])\n",
    "    plt.xticks([])\n",
    "    plt.tight_layout()\n",
    "\n",
    "    # plottable_image = outputs[i,0,:,:]\n",
    "    ax = fig.add_subplot(3, 10, i+11)\n",
    "    ax.imshow(outputs[i,0,:,:].detach().numpy(),cmap='gray')\n",
    "    plt.tight_layout()\n",
    "    plt.yticks([])\n",
    "    plt.xticks([])\n",
    "    ax2 = fig.add_subplot(3, 10, i+21)\n",
    "    ax2.imshow(x_clean[i,0,:,:],cmap='gray')\n",
    "    plt.tight_layout()\n",
    "    plt.yticks([])\n",
    "    plt.xticks([])\n",
    "Image_path = os.path.join(os.getcwd(),'Image')"
   ]
  },
  {
   "cell_type": "code",
   "execution_count": null,
   "metadata": {},
   "outputs": [],
   "source": []
  }
 ],
 "metadata": {
  "interpreter": {
   "hash": "6baa29261e0939834968439b99fb7dc00c96e7d0a4e424e93f9e6e1808d1076f"
  },
  "kernelspec": {
   "display_name": "Python 3.10.4 ('.venv': venv)",
   "language": "python",
   "name": "python3"
  },
  "language_info": {
   "codemirror_mode": {
    "name": "ipython",
    "version": 3
   },
   "file_extension": ".py",
   "mimetype": "text/x-python",
   "name": "python",
   "nbconvert_exporter": "python",
   "pygments_lexer": "ipython3",
   "version": "3.10.4"
  },
  "orig_nbformat": 4
 },
 "nbformat": 4,
 "nbformat_minor": 2
}
